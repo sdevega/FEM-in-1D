{
 "cells": [
  {
   "cell_type": "markdown",
   "metadata": {},
   "source": [
    "# Finite Element Method in 1D"
   ]
  },
  {
   "cell_type": "markdown",
   "metadata": {},
   "source": [
    "Example of the Finite Element Method (FEM) for the heat equation in 1D:\n",
    "$$ \\dfrac{d^2 T}{d x^2} = -f(x)$$\n",
    "\n",
    "Presentation of the problem:\n",
    "\n",
    "Heated rod of length $L$ under a uniform heat source $f(x)=c_0$. Initial temperature $T(0,t)=T_1$ and $T(L,t)=T_2$."
   ]
  },
  {
   "cell_type": "markdown",
   "metadata": {},
   "source": [
    "### Analytical calculations"
   ]
  },
  {
   "cell_type": "markdown",
   "metadata": {},
   "source": [
    "After integrating twice the heat eq. we end up with a polynomial solution of the form:\n",
    "$$T(x) = - \\dfrac{c_0}{2}x^2 + c_1 x + c_2,$$\n",
    "where $c_1=c_0L/2 + (T_2-T_1)/L$ and $c_2 = T_1$."
   ]
  },
  {
   "cell_type": "code",
   "execution_count": 6,
   "metadata": {},
   "outputs": [
    {
     "data": {
      "image/png": "[encoded data removed]",
      "text/plain": [
       "<Figure size 432x288 with 1 Axes>"
      ]
     },
     "metadata": {},
     "output_type": "display_data"
    }
   ],
   "source": [
    "import matplotlib.pyplot as plt\n",
    "import numpy as np\n",
    "\n",
    "# parameters for the rod\n",
    "L  = 10  # cm\n",
    "T1 = 40  # K \n",
    "T2 = 200 # K\n",
    "c0 = 10\n",
    "\n",
    "c1 = 0.5*c0*L + (T2-T1)/L\n",
    "c2 = T1\n",
    "\n",
    "x = np.linspace(0,L,100)\n",
    "T = -0.5*c0*x**2 + c1*x + c2\n",
    "\n",
    "plt.plot(x,T)\n",
    "\n",
    "plt.xlabel('$x$ (cm)')\n",
    "plt.ylabel('$T$ (K)')\n",
    "s1 = '$L = $' + repr(L) + 'cm rod' \n",
    "plt.title(s1)\n",
    "plt.show()"
   ]
  },
  {
   "cell_type": "markdown",
   "metadata": {},
   "source": [
    "### FEM using the Method of Weighted Residuals (MWR) "
   ]
  },
  {
   "cell_type": "markdown",
   "metadata": {},
   "source": [
    "We use interpolating functions $N_i$ as weighting functions (Galerkin's method). As the problem is approximated the heat equation has a small residual $R$:\n",
    "$$R = \\dfrac{d^2 T}{dx^2} + f(x)$$\n",
    "Hence, we try to find a minimum for the residual $R$ in the solution domain $D$ according to:\n",
    "$$\\int_D RN_j dD = 0$$\n",
    "where $j=1,2,...,m$ being $m$ the total number of nodes. For our 10cm rod we choose 4 elements of 2.5cm and thus, we have 5 nodes.\n",
    "\n",
    "The approximated equation for the temperature is\n",
    "$$T(x) \\sim N_i T_i + N_f T_f$$\n",
    "where,\n",
    "$$N_i = \\dfrac{x_f - x}{x_f - x_i}$$\n",
    "\n",
    "$$N_f = \\dfrac{x - x_i}{x_f - x_i}.$$\n",
    "\n",
    "The element equations are:\n",
    "$$\\dfrac{1}{x_f-x_i} \\begin{bmatrix}\n",
    "1 & -1 \\\\\n",
    "-1 & 1\n",
    "\\end{bmatrix} \n",
    "\\begin{bmatrix}\n",
    "T_i  \\\\\n",
    "T_f \n",
    "\\end{bmatrix} = \n",
    "\\begin{bmatrix}\n",
    "-T'_i  \\\\\n",
    "T'_f \n",
    "\\end{bmatrix} + \n",
    "\\begin{bmatrix}\n",
    "\\int_{x_i}^{x_f} f(x) N_i(x)dx  \\\\\n",
    "\\int_{x_i}^{x_f} f(x) N_f(x)dx \n",
    "\\end{bmatrix}\n",
    "$$\n",
    "which after assembly (passing from local to global coordinates) become:\n",
    "$$\\begin{bmatrix}\n",
    "\\dfrac{1}{x_1-x_2}   & -\\dfrac{1}{x_1-x_2} &  0 &  0 &  0\\\\\n",
    "-\\dfrac{1}{x_1-x_2}  &  \\dfrac{1}{x_1-x_2}+\\dfrac{1}{x_2-x_3}  & -\\dfrac{1}{x_2-x_3} &  0 &  0\\\\\n",
    "0  & -\\dfrac{1}{x_2-x_3} &  \\dfrac{1}{x_2-x_3}+\\dfrac{1}{x_3-x_4} & -\\dfrac{1}{x_3-x_4} &  0\\\\\n",
    "0  &  0 & -\\dfrac{1}{x_3-x_4} &  \\dfrac{1}{x_3-x_4}+\\dfrac{1}{x_4-x_5} & -\\dfrac{1}{x_4-x_5}\\\\\n",
    "0  &  0 &  0 & -\\dfrac{1}{x_4-x_5} &  \\dfrac{1}{x_4-x_5}\n",
    "\\end{bmatrix} \n",
    "\\begin{bmatrix}\n",
    "T_1  \\\\\n",
    "T_2  \\\\\n",
    "T_3  \\\\\n",
    "T_4  \\\\\n",
    "T_5  \n",
    "\\end{bmatrix} = \n",
    "\\begin{bmatrix}\n",
    "-T'_1 + \\int_{x_1}^{x_2} f(x)N_1(x) dx  \\\\\n",
    "\\int_{x_1}^{x_2} f(x)N_2(x) dx + \\int_{x_2}^{x_3} f(x)N_2(x) dx + (T'_2 - T'_2) \\\\\n",
    "\\int_{x_2}^{x_3} f(x)N_3(x) dx + \\int_{x_3}^{x_4} f(x)N_3(x) dx + (T'_3 - T'_3)\\\\\n",
    "\\int_{x_3}^{x_4} f(x)N_4(x) dx + \\int_{x_4}^{x_5} f(x)N_4(x) dx + (T'_4 - T'_4)\\\\\n",
    "T'_5 + \\int_{x_4}^{x_5} f(x)N_5(x) dx  \\\\\n",
    "\\end{bmatrix} \n",
    "$$\n",
    "Finally, plugging numbers:\n",
    "$$0.4\\begin{bmatrix}\n",
    "1  & -1 &  0 &  0 &  0\\\\\n",
    "-1 &  2 & -1 &  0 &  0\\\\\n",
    "0  & -1 &  2 & -1 &  0\\\\\n",
    "0  &  0 & -1 &  2 & -1\\\\\n",
    "0  &  0 &  0 & -1 &  1\n",
    "\\end{bmatrix} \n",
    "\\begin{bmatrix}\n",
    "T_1  \\\\\n",
    "T_2  \\\\\n",
    "T_3  \\\\\n",
    "T_4  \\\\\n",
    "T_5  \n",
    "\\end{bmatrix} = \n",
    "\\begin{bmatrix}\n",
    "-T'_1 + 12.5  \\\\\n",
    "25 \\\\\n",
    "25\\\\\n",
    "25\\\\\n",
    "T'_5 + 12.5  \\\\\n",
    "\\end{bmatrix} \n",
    "$$\n",
    "Here $T_1=40$K and $T_5=200$K but $T'_1$ and $T'_5$ are unknown. By solving the (new) systems of equations which includes $T'_1$ and $T'_5$ we have the solution approximated with the FEM:\n",
    "$$\\begin{bmatrix}\n",
    "1  & -0.4 &  0 &  0 &  0\\\\\n",
    "0 &  0.8 & -0.4 &  0 &  0\\\\\n",
    "0  & -0.4 & 0.8 & -0.4 &  0\\\\\n",
    "0  &  0 & -0.4 &  0.8 & 0\\\\\n",
    "0  &  0 &  0 & -0.4 & -1\n",
    "\\end{bmatrix} \n",
    "\\begin{bmatrix}\n",
    "T'_1  \\\\\n",
    "T_2  \\\\\n",
    "T_3  \\\\\n",
    "T_4  \\\\\n",
    "T'_5  \n",
    "\\end{bmatrix} = \n",
    "\\begin{bmatrix}\n",
    "-0.4T_1 + 12.5  \\\\\n",
    "0.4T_1+25 \\\\\n",
    "25\\\\\n",
    "0.4T_5+25\\\\\n",
    "-0.4T_5 + 12.5  \\\\\n",
    "\\end{bmatrix} \n",
    "$$"
   ]
  },
  {
   "cell_type": "code",
   "execution_count": 71,
   "metadata": {},
   "outputs": [
    {
     "data": {
      "text/plain": [
       "<matplotlib.legend.Legend at 0x116fd36d8>"
      ]
     },
     "execution_count": 71,
     "metadata": {},
     "output_type": "execute_result"
    },
    {
     "data": {
      "image/png": "[encoded data removed]",
      "text/plain": [
       "<Figure size 432x288 with 1 Axes>"
      ]
     },
     "metadata": {},
     "output_type": "display_data"
    }
   ],
   "source": [
    "# parameters for the rod\n",
    "L  = 10  # cm\n",
    "Ti = 40  # K \n",
    "Tf = 200 # K\n",
    "c0 = 10\n",
    "\n",
    "# analytics\n",
    "c1 = 0.5*c0*L + (Tf-Ti)/L\n",
    "c2 = Ti\n",
    "\n",
    "x = np.linspace(0,L,100)\n",
    "T = -0.5*c0*x**2 + c1*x + c2\n",
    "\n",
    "# FEM\n",
    "T1=Ti\n",
    "T5=Tf\n",
    "\n",
    "xfem = np.linspace(0,L,5) # number of elements\n",
    "\n",
    "# elements matrix\n",
    "E    = np.array([[1, -0.4, 0, 0, 0], \n",
    "                 [0, 0.8, -0.4, 0, 0],\n",
    "                 [0, -0.4, 0.8, -0.4, 0], \n",
    "                 [0, 0, -0.4, 0.8, 0], \n",
    "                 [0, 0, 0, -0.4, -1]])\n",
    "\n",
    "# solutions matrix\n",
    "S    = np.array([12.5-0.4*T1,25+0.4*T1,25,25+0.4*T5,12.5-0.4*T5])\n",
    "\n",
    "Tpfem = np.linalg.solve(E, S)\n",
    "Lt = len(Tpfem)\n",
    "\n",
    "Tfem = Tpfem\n",
    "Tfem[0]   = T1\n",
    "Tfem[Lt-1]= T5\n",
    "\n",
    "plt.plot(x,T,label='analytics')\n",
    "plt.plot(xfem,Tfem,'or',label='FEM')\n",
    "plt.xlabel('$x$ (cm)')\n",
    "plt.ylabel('$T$ (K)')\n",
    "plt.legend()"
   ]
  }
 ],
 "metadata": {
  "kernelspec": {
   "display_name": "Python 3",
   "language": "python",
   "name": "python3"
  },
  "language_info": {
   "codemirror_mode": {
    "name": "ipython",
    "version": 3
   },
   "file_extension": ".py",
   "mimetype": "text/x-python",
   "name": "python",
   "nbconvert_exporter": "python",
   "pygments_lexer": "ipython3",
   "version": "3.6.5"
  }
 },
 "nbformat": 4,
 "nbformat_minor": 2
}
